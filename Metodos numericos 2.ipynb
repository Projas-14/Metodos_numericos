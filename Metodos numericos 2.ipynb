{
  "nbformat": 4,
  "nbformat_minor": 0,
  "metadata": {
    "colab": {
      "provenance": [],
      "include_colab_link": true
    },
    "kernelspec": {
      "name": "python3",
      "display_name": "Python 3"
    },
    "language_info": {
      "name": "python"
    }
  },
  "cells": [
    {
      "cell_type": "markdown",
      "metadata": {
        "id": "view-in-github",
        "colab_type": "text"
      },
      "source": [
        "<a href=\"https://colab.research.google.com/github/Projas-14/Metodos_numericos/blob/master/Metodos%20numericos%202.ipynb\" target=\"_parent\"><img src=\"https://colab.research.google.com/assets/colab-badge.svg\" alt=\"Open In Colab\"/></a>"
      ]
    },
    {
      "cell_type": "markdown",
      "source": [
        "Integrantes:\n",
        "Javier Marín\n",
        "\n",
        "Paul Rojas\n",
        "\n",
        "Javiera Cabrera\n",
        "\n",
        "Sofía Labra"
      ],
      "metadata": {
        "id": "npNia47cziV0"
      }
    },
    {
      "cell_type": "markdown",
      "source": [
        "### **1.** Regresión Lineal Simple y Múltiple:\n",
        "Una universidad en EEUU quiere hacer un estudio de como se relacionan las notas de las 3 pruebas del\n",
        "semestre con la nota final del examen. Para ello cuentan con 25 datos del semestre pasado. Encontrar\n",
        "el modelo de regresión lineal m´ultiple para realizar esta tarea. (Ejemplo real y se llama “Test Scores for\n",
        "General Psychology”. Descargue el archivo mlr03.xls)\n",
        "Primero realice una regresi´on lineal simple, en donde utilice la nota de la primera prueba como\n",
        "variable independiente y la nota del examen como la dependiente. Muestre en un gr´afico los datos\n",
        "y la recta que se genera.\n",
        "Luego implemente la regresión lineal múltiple con todos los datos.\n",
        "Verifique la calidad de los modelos calculando la medida de desempeño r\n",
        "2\n",
        ". Debe calcular la métrica de\n",
        "desempeño para cada uno de los problemas.\n"
      ],
      "metadata": {
        "id": "QZ_VFwJTw-ly"
      }
    },
    {
      "cell_type": "code",
      "source": [
        "import matplotlib.pyplot as plt\n",
        "import pandas as pd\n",
        "import numpy as np"
      ],
      "metadata": {
        "id": "iWTMEK2GxQHq"
      },
      "execution_count": null,
      "outputs": []
    },
    {
      "cell_type": "markdown",
      "source": [
        "Creamos el data frame de mlr03"
      ],
      "metadata": {
        "id": "RFFblaVqxgNC"
      }
    },
    {
      "cell_type": "code",
      "source": [
        "df = pd.read_csv('mlr03.csv',  sep=';')"
      ],
      "metadata": {
        "id": "cy106_3FxeYG"
      },
      "execution_count": null,
      "outputs": []
    },
    {
      "cell_type": "code",
      "source": [
        "# Funcion Regresion Lineal Simple\n",
        "def lineal(xi, a1, a0):\n",
        "  return ((xi * a1) + a0)\n",
        "\n",
        "# Funcion para calcular la suma de una multiplicacion\n",
        "def multiplicar(datos1, datos2):\n",
        "  sumatoria = 0\n",
        "\n",
        "  for i in range(0, 25):\n",
        "    num = (datos1[i]) * (datos2[i])\n",
        "    sumatoria = sumatoria + num\n",
        "\n",
        "  return sumatoria"
      ],
      "metadata": {
        "id": "gT3LKgHgxmkl"
      },
      "execution_count": null,
      "outputs": []
    },
    {
      "cell_type": "code",
      "source": [
        "# Lista de los 'Y' obtenidos de la funcion de Regresion Lineal Simple\n",
        "f = []\n",
        "\n",
        "y = df['FINAL'].tolist() # Variable Dependiente\n",
        "x = df['EXAM1'].tolist() # Variable Independiente\n",
        "\n",
        "n = len(x) # Cantidad de datos\n",
        "sum_x = sum(x) # Sumatoria de los 'X'\n",
        "sum_y = sum(y) # Sumatoria de los 'Y'\n",
        "\n",
        "#-------------------#\n",
        "# Sumatoria de (X^2) o (X * X)\n",
        "sum_x2 = multiplicar(x, x)\n",
        "# Sumatoria de (X * Y)\n",
        "sum_xy = multiplicar(x, y)\n",
        "\n",
        "prom_y = sum_y/n\n",
        "\n",
        "ST_S = 0\n",
        "SR_S = 0\n",
        "\n",
        "\n",
        "# valor de a1 y a2\n",
        "a1 = (n * sum_xy - sum_x * sum_y)/(n * sum_x2 - sum_x**2)\n",
        "a0 = (sum_y/n) - a1 * (sum_x/n)\n",
        "\n",
        "\n",
        "\n",
        "# Calculo de ST\n",
        "for i in range(n):\n",
        "  SR_S += (y[i] - a0 - a1 * x[i])**2\n",
        "  ST_S += (y[i] - prom_y)**2\n",
        "  f.append(lineal(x[i], a1, a0))\n",
        "\n",
        "\n",
        "# R^2\n",
        "R2 = (ST_S - SR_S)/ST_S\n",
        "\n",
        "# print R^2\n",
        "print(\"  R^2 = \" + str(R2))"
      ],
      "metadata": {
        "colab": {
          "base_uri": "https://localhost:8080/"
        },
        "id": "VZh8LWTSxpO7",
        "outputId": "e09a3ff0-5faa-46b4-a13b-5a8b64128064"
      },
      "execution_count": null,
      "outputs": [
        {
          "output_type": "stream",
          "name": "stdout",
          "text": [
            "  R^2 = 0.8950500188020497\n"
          ]
        }
      ]
    },
    {
      "cell_type": "markdown",
      "source": [
        "Tenemos $R^2$ es 0.8950500188020497 debido que sabemos que $r^2 > 0.7$ tenemos qu es fuertemente correlacionada con la variable dependiente."
      ],
      "metadata": {
        "id": "wh-xvZ2Mxsio"
      }
    },
    {
      "cell_type": "code",
      "source": [
        "tabla = pd.DataFrame({'X': x, 'f(X)':f})\n",
        "tabla"
      ],
      "metadata": {
        "colab": {
          "base_uri": "https://localhost:8080/",
          "height": 833
        },
        "id": "_tfgTOzit5Gm",
        "outputId": "8c929f7b-3a4f-4fc5-98d6-72e38edc80b5"
      },
      "execution_count": null,
      "outputs": [
        {
          "output_type": "execute_result",
          "data": {
            "text/plain": [
              "     X        f(X)\n",
              "0   73  150.851173\n",
              "1   93  187.900270\n",
              "2   89  180.490450\n",
              "3   96  193.457634\n",
              "4   73  150.851173\n",
              "5   53  113.802076\n",
              "6   69  143.441353\n",
              "7   47  102.687347\n",
              "8   87  176.785541\n",
              "9   79  161.965902\n",
              "10  69  143.441353\n",
              "11  70  145.293808\n",
              "12  93  187.900270\n",
              "13  79  161.965902\n",
              "14  70  145.293808\n",
              "15  93  187.900270\n",
              "16  78  160.113447\n",
              "17  81  165.670812\n",
              "18  88  178.637995\n",
              "19  78  160.113447\n",
              "20  82  167.523266\n",
              "21  86  174.933086\n",
              "22  78  160.113447\n",
              "23  76  156.408537\n",
              "24  96  193.457634"
            ],
            "text/html": [
              "\n",
              "  <div id=\"df-a974b142-6fd2-4cd5-aac4-b3cbbf436a01\">\n",
              "    <div class=\"colab-df-container\">\n",
              "      <div>\n",
              "<style scoped>\n",
              "    .dataframe tbody tr th:only-of-type {\n",
              "        vertical-align: middle;\n",
              "    }\n",
              "\n",
              "    .dataframe tbody tr th {\n",
              "        vertical-align: top;\n",
              "    }\n",
              "\n",
              "    .dataframe thead th {\n",
              "        text-align: right;\n",
              "    }\n",
              "</style>\n",
              "<table border=\"1\" class=\"dataframe\">\n",
              "  <thead>\n",
              "    <tr style=\"text-align: right;\">\n",
              "      <th></th>\n",
              "      <th>X</th>\n",
              "      <th>f(X)</th>\n",
              "    </tr>\n",
              "  </thead>\n",
              "  <tbody>\n",
              "    <tr>\n",
              "      <th>0</th>\n",
              "      <td>73</td>\n",
              "      <td>150.851173</td>\n",
              "    </tr>\n",
              "    <tr>\n",
              "      <th>1</th>\n",
              "      <td>93</td>\n",
              "      <td>187.900270</td>\n",
              "    </tr>\n",
              "    <tr>\n",
              "      <th>2</th>\n",
              "      <td>89</td>\n",
              "      <td>180.490450</td>\n",
              "    </tr>\n",
              "    <tr>\n",
              "      <th>3</th>\n",
              "      <td>96</td>\n",
              "      <td>193.457634</td>\n",
              "    </tr>\n",
              "    <tr>\n",
              "      <th>4</th>\n",
              "      <td>73</td>\n",
              "      <td>150.851173</td>\n",
              "    </tr>\n",
              "    <tr>\n",
              "      <th>5</th>\n",
              "      <td>53</td>\n",
              "      <td>113.802076</td>\n",
              "    </tr>\n",
              "    <tr>\n",
              "      <th>6</th>\n",
              "      <td>69</td>\n",
              "      <td>143.441353</td>\n",
              "    </tr>\n",
              "    <tr>\n",
              "      <th>7</th>\n",
              "      <td>47</td>\n",
              "      <td>102.687347</td>\n",
              "    </tr>\n",
              "    <tr>\n",
              "      <th>8</th>\n",
              "      <td>87</td>\n",
              "      <td>176.785541</td>\n",
              "    </tr>\n",
              "    <tr>\n",
              "      <th>9</th>\n",
              "      <td>79</td>\n",
              "      <td>161.965902</td>\n",
              "    </tr>\n",
              "    <tr>\n",
              "      <th>10</th>\n",
              "      <td>69</td>\n",
              "      <td>143.441353</td>\n",
              "    </tr>\n",
              "    <tr>\n",
              "      <th>11</th>\n",
              "      <td>70</td>\n",
              "      <td>145.293808</td>\n",
              "    </tr>\n",
              "    <tr>\n",
              "      <th>12</th>\n",
              "      <td>93</td>\n",
              "      <td>187.900270</td>\n",
              "    </tr>\n",
              "    <tr>\n",
              "      <th>13</th>\n",
              "      <td>79</td>\n",
              "      <td>161.965902</td>\n",
              "    </tr>\n",
              "    <tr>\n",
              "      <th>14</th>\n",
              "      <td>70</td>\n",
              "      <td>145.293808</td>\n",
              "    </tr>\n",
              "    <tr>\n",
              "      <th>15</th>\n",
              "      <td>93</td>\n",
              "      <td>187.900270</td>\n",
              "    </tr>\n",
              "    <tr>\n",
              "      <th>16</th>\n",
              "      <td>78</td>\n",
              "      <td>160.113447</td>\n",
              "    </tr>\n",
              "    <tr>\n",
              "      <th>17</th>\n",
              "      <td>81</td>\n",
              "      <td>165.670812</td>\n",
              "    </tr>\n",
              "    <tr>\n",
              "      <th>18</th>\n",
              "      <td>88</td>\n",
              "      <td>178.637995</td>\n",
              "    </tr>\n",
              "    <tr>\n",
              "      <th>19</th>\n",
              "      <td>78</td>\n",
              "      <td>160.113447</td>\n",
              "    </tr>\n",
              "    <tr>\n",
              "      <th>20</th>\n",
              "      <td>82</td>\n",
              "      <td>167.523266</td>\n",
              "    </tr>\n",
              "    <tr>\n",
              "      <th>21</th>\n",
              "      <td>86</td>\n",
              "      <td>174.933086</td>\n",
              "    </tr>\n",
              "    <tr>\n",
              "      <th>22</th>\n",
              "      <td>78</td>\n",
              "      <td>160.113447</td>\n",
              "    </tr>\n",
              "    <tr>\n",
              "      <th>23</th>\n",
              "      <td>76</td>\n",
              "      <td>156.408537</td>\n",
              "    </tr>\n",
              "    <tr>\n",
              "      <th>24</th>\n",
              "      <td>96</td>\n",
              "      <td>193.457634</td>\n",
              "    </tr>\n",
              "  </tbody>\n",
              "</table>\n",
              "</div>\n",
              "      <button class=\"colab-df-convert\" onclick=\"convertToInteractive('df-a974b142-6fd2-4cd5-aac4-b3cbbf436a01')\"\n",
              "              title=\"Convert this dataframe to an interactive table.\"\n",
              "              style=\"display:none;\">\n",
              "        \n",
              "  <svg xmlns=\"http://www.w3.org/2000/svg\" height=\"24px\"viewBox=\"0 0 24 24\"\n",
              "       width=\"24px\">\n",
              "    <path d=\"M0 0h24v24H0V0z\" fill=\"none\"/>\n",
              "    <path d=\"M18.56 5.44l.94 2.06.94-2.06 2.06-.94-2.06-.94-.94-2.06-.94 2.06-2.06.94zm-11 1L8.5 8.5l.94-2.06 2.06-.94-2.06-.94L8.5 2.5l-.94 2.06-2.06.94zm10 10l.94 2.06.94-2.06 2.06-.94-2.06-.94-.94-2.06-.94 2.06-2.06.94z\"/><path d=\"M17.41 7.96l-1.37-1.37c-.4-.4-.92-.59-1.43-.59-.52 0-1.04.2-1.43.59L10.3 9.45l-7.72 7.72c-.78.78-.78 2.05 0 2.83L4 21.41c.39.39.9.59 1.41.59.51 0 1.02-.2 1.41-.59l7.78-7.78 2.81-2.81c.8-.78.8-2.07 0-2.86zM5.41 20L4 18.59l7.72-7.72 1.47 1.35L5.41 20z\"/>\n",
              "  </svg>\n",
              "      </button>\n",
              "      \n",
              "  <style>\n",
              "    .colab-df-container {\n",
              "      display:flex;\n",
              "      flex-wrap:wrap;\n",
              "      gap: 12px;\n",
              "    }\n",
              "\n",
              "    .colab-df-convert {\n",
              "      background-color: #E8F0FE;\n",
              "      border: none;\n",
              "      border-radius: 50%;\n",
              "      cursor: pointer;\n",
              "      display: none;\n",
              "      fill: #1967D2;\n",
              "      height: 32px;\n",
              "      padding: 0 0 0 0;\n",
              "      width: 32px;\n",
              "    }\n",
              "\n",
              "    .colab-df-convert:hover {\n",
              "      background-color: #E2EBFA;\n",
              "      box-shadow: 0px 1px 2px rgba(60, 64, 67, 0.3), 0px 1px 3px 1px rgba(60, 64, 67, 0.15);\n",
              "      fill: #174EA6;\n",
              "    }\n",
              "\n",
              "    [theme=dark] .colab-df-convert {\n",
              "      background-color: #3B4455;\n",
              "      fill: #D2E3FC;\n",
              "    }\n",
              "\n",
              "    [theme=dark] .colab-df-convert:hover {\n",
              "      background-color: #434B5C;\n",
              "      box-shadow: 0px 1px 3px 1px rgba(0, 0, 0, 0.15);\n",
              "      filter: drop-shadow(0px 1px 2px rgba(0, 0, 0, 0.3));\n",
              "      fill: #FFFFFF;\n",
              "    }\n",
              "  </style>\n",
              "\n",
              "      <script>\n",
              "        const buttonEl =\n",
              "          document.querySelector('#df-a974b142-6fd2-4cd5-aac4-b3cbbf436a01 button.colab-df-convert');\n",
              "        buttonEl.style.display =\n",
              "          google.colab.kernel.accessAllowed ? 'block' : 'none';\n",
              "\n",
              "        async function convertToInteractive(key) {\n",
              "          const element = document.querySelector('#df-a974b142-6fd2-4cd5-aac4-b3cbbf436a01');\n",
              "          const dataTable =\n",
              "            await google.colab.kernel.invokeFunction('convertToInteractive',\n",
              "                                                     [key], {});\n",
              "          if (!dataTable) return;\n",
              "\n",
              "          const docLinkHtml = 'Like what you see? Visit the ' +\n",
              "            '<a target=\"_blank\" href=https://colab.research.google.com/notebooks/data_table.ipynb>data table notebook</a>'\n",
              "            + ' to learn more about interactive tables.';\n",
              "          element.innerHTML = '';\n",
              "          dataTable['output_type'] = 'display_data';\n",
              "          await google.colab.output.renderOutput(dataTable, element);\n",
              "          const docLink = document.createElement('div');\n",
              "          docLink.innerHTML = docLinkHtml;\n",
              "          element.appendChild(docLink);\n",
              "        }\n",
              "      </script>\n",
              "    </div>\n",
              "  </div>\n",
              "  "
            ]
          },
          "metadata": {},
          "execution_count": 7
        }
      ]
    },
    {
      "cell_type": "code",
      "source": [
        "# Genero la grafica\n",
        "\n",
        "plt_x = np.linspace(0,100,100)\n",
        "plt.plot(x, f)\n",
        "plt.scatter(x, y)\n",
        "plt.title(\"Modelo Regresion Lineal Simple\")\n",
        "plt.legend([\"Recta\", \"Puntos\"])\n",
        "plt.xlabel('X')\n",
        "plt.ylabel('Y')\n",
        "plt.show()"
      ],
      "metadata": {
        "colab": {
          "base_uri": "https://localhost:8080/",
          "height": 295
        },
        "id": "pvKV3mbPxw3T",
        "outputId": "3b00b5b8-f1e2-4199-8ac1-d40be4877ae5"
      },
      "execution_count": null,
      "outputs": [
        {
          "output_type": "display_data",
          "data": {
            "text/plain": [
              "<Figure size 432x288 with 1 Axes>"
            ],
            "image/png": "[encoded data removed]"
          },
          "metadata": {
            "needs_background": "light"
          }
        }
      ]
    },
    {
      "cell_type": "markdown",
      "source": [
        " Regresión lineal múltiple"
      ],
      "metadata": {
        "id": "EGh4jov5xwjr"
      }
    },
    {
      "cell_type": "code",
      "source": [
        "def regresion_lineal_multiple(x1,x2,x3,y,n):\n",
        "  #Sumas inicializadas en 0\n",
        "  #suma de x1,x2,x3\n",
        "  suma_X1 = 0\n",
        "  suma_X2 = 0\n",
        "  suma_X3 = 0\n",
        "  #suma de 1x1 ; x1x2 ; x1x2\n",
        "  suma_X1x1 = 0\n",
        "  suma_X1x2 = 0\n",
        "  suma_X1x3 = 0\n",
        "  #suma de x2x2 ; x2x3\n",
        "  suma_X2x2 = 0\n",
        "  suma_X2x3 = 0\n",
        "  #x3x3\n",
        "  suma_X3x3 = 0\n",
        "\n",
        "  #suma y ; suma y*x1 ; suma y*x2 ; suma y*x3\n",
        "\n",
        "  suma_y = 0\n",
        "  suma_yx1 = 0\n",
        "  suma_yx2 = 0\n",
        "  suma_yx3 = 0\n",
        "\n",
        "\n",
        "\n",
        "  for i in range(n):\n",
        "    #suma de x1,x2,x3\n",
        "    suma_X1 += x1[i]\n",
        "    suma_X2 += x2[i]\n",
        "    suma_X3 += x3[i]\n",
        "    #suma de 1x1 ; x1x2 ; x1x2\n",
        "    suma_X1x1 += x1[i] * x1[i]\n",
        "    suma_X1x2 += x1[i] * x2[i]\n",
        "    suma_X1x3 += x1[i] * x3[i]\n",
        "    #suma de x2x2 ; x2x3\n",
        "    suma_X2x2 += x2[i] * x2[i]\n",
        "    suma_X2x3 += x2[i] * x3[i]\n",
        "    #x3x3\n",
        "    suma_X3x3 += x3[i] * x3[i]\n",
        "    #suma y ; suma y*x1 ; suma y*x2 ; suma y*x3\n",
        "    suma_y += y[i]\n",
        "    suma_yx1 += y[i]*x1[i]\n",
        "    suma_yx2 += y[i]*x2[i]\n",
        "    suma_yx3 += y[i]*x3[i]\n",
        "\n",
        "  promedio_y = suma_y/n\n",
        "\n",
        "  #creamos la matrix de la regresion lineal multiple A y B traspuesta\n",
        "  A = np.matrix([[n, suma_X1, suma_X2, suma_X3],\n",
        "                 [suma_X1, suma_X1x1, suma_X1x2, suma_X1x3],\n",
        "                 [suma_X2, suma_X1x2, suma_X2x2, suma_X2x3],\n",
        "                 [suma_X3, suma_X1x3, suma_X2x3, suma_X3x3]],\n",
        "                 dtype=float)\n",
        "\n",
        "  B = np.array([suma_y, suma_yx1, suma_yx2, suma_yx3], dtype=float).T\n",
        "\n",
        "  #resolvemos A*X=B donde X ={a0,a1,a2,a3}\n",
        "\n",
        "  X = np.linalg.solve(A, B)\n",
        "  a0 = X[0]\n",
        "  a1 = X[1]\n",
        "  a2 = X[2]\n",
        "  a3 = X[3]\n",
        "\n",
        "  ST_M = 0\n",
        "  SR_M = 0\n",
        "\n",
        "\n",
        "  for i in range(n):\n",
        "    ST_M += (y[i] - promedio_y)**2\n",
        "    SR_M += (y[i] - a0 - a1 * x1[i] - a2 * x2[i] - a3 * x3[i])**2\n",
        "\n",
        "  #calculamos r^2\n",
        "  r2 = (ST_M - SR_M)/ST_M\n",
        "\n",
        "  print(f\"a0 = {a0}\")\n",
        "  print(f\"a1 = {a1}\")\n",
        "  print(f\"a2 = {a2}\")\n",
        "  print(f\"a3 = {a3}\")\n",
        "\n",
        "  return(f\"el valor de r^2 es {r2}\")\n",
        "\n",
        "x1 = df['EXAM1'].tolist()\n",
        "x2 = df['EXAM2'].tolist()\n",
        "x3 = df['EXAM3'].tolist()\n",
        "y  = df['FINAL'].tolist()\n",
        "\n",
        "regresion_lineal_multiple(x1,x2,x3,y,len(x1))"
      ],
      "metadata": {
        "colab": {
          "base_uri": "https://localhost:8080/",
          "height": 107
        },
        "id": "hJpJLNSIx2zp",
        "outputId": "a38ecb4d-82a9-4295-ed55-714e96e6934b"
      },
      "execution_count": null,
      "outputs": [
        {
          "output_type": "stream",
          "name": "stdout",
          "text": [
            "a0 = -4.3361024012398675\n",
            "a1 = 0.3559382186618588\n",
            "a2 = 0.5425187576186773\n",
            "a3 = 1.1674442162822052\n"
          ]
        },
        {
          "output_type": "execute_result",
          "data": {
            "text/plain": [
              "'el valor de r^2 es 0.9896615789448399'"
            ],
            "application/vnd.google.colaboratory.intrinsic+json": {
              "type": "string"
            }
          },
          "metadata": {},
          "execution_count": 9
        }
      ]
    },
    {
      "cell_type": "markdown",
      "source": [
        "Tenemos $R^2$ es 0.9896615789448399 debido que sabemos que $r^2 > 0.7$ tenemos qu es fuertemente correlacionada con la variable dependiente."
      ],
      "metadata": {
        "id": "bQOVbXq3x6jD"
      }
    },
    {
      "cell_type": "code",
      "source": [],
      "metadata": {
        "id": "WItiWL5zx5FZ"
      },
      "execution_count": null,
      "outputs": []
    },
    {
      "cell_type": "markdown",
      "source": [
        "###2. Dados los puntos de la forma (x;f(x)) siguientes: [(1;0) (2;5) (2.5;6.5) (3;7) (4;3) (5;1)]. Calcule f(3,4) usando interpolación polinomial de Newton de ordenes 1 a 3. Encuentre la secuencia de puntos parasus estimados para obtener el mejor resultado. Esto es, los puntos deberian estar centrados y lo más cerca del valor desconocido."
      ],
      "metadata": {
        "id": "Kl49TKE8aCx5"
      }
    },
    {
      "cell_type": "markdown",
      "source": [
        "Newton:"
      ],
      "metadata": {
        "id": "KPQrSzQs7Cfu"
      }
    },
    {
      "cell_type": "code",
      "source": [
        "import math\n",
        "import pandas as pd\n",
        "\n",
        "def newton(x,y, valor):\n",
        "  i = len(x)\n",
        "  k = 0\n",
        "  fx2_x1 = []\n",
        "  fx3_x2_x1 = []\n",
        "  fx4_x3_x2_x1 = []\n",
        "  fx5_x4_x3_x2_x1 = []\n",
        "  fx6_x5_x4_x3_x2_x1 =[]\n",
        "\n",
        "  for k in range(len(x)):\n",
        "       #x1\n",
        "    if(k == 0):\n",
        "      for j in range(i):\n",
        "        if(j == i - 1):\n",
        "          resp = \"-\"\n",
        "        else:\n",
        "          yy = y[j + 1] - y[j]\n",
        "          xx = x[j + 1] - x[j]\n",
        "          resp = yy/xx\n",
        "        fx2_x1.append(resp)\n",
        "\n",
        "    if(k == 1):\n",
        "      for j in range(i - 2):\n",
        "          yy = fx2_x1[j + 1] - fx2_x1[j]\n",
        "          xx = x[j + 2] - x[j]\n",
        "          resp = yy/xx\n",
        "          fx3_x2_x1.append(resp)\n",
        "\n",
        "      for j in range(2):\n",
        "        resp = \"-\"\n",
        "        fx3_x2_x1.append(resp)\n",
        "\n",
        "    if(k == 2):\n",
        "      for j in range(i - 3):\n",
        "        yy = fx3_x2_x1[j + 1] - fx3_x2_x1[j]\n",
        "        xx = x[j + 3] - x[j]\n",
        "        resp = yy/xx\n",
        "        fx4_x3_x2_x1.append(resp)\n",
        "\n",
        "      for j in range(3):\n",
        "        resp = \"-\"\n",
        "        fx4_x3_x2_x1.append(resp)\n",
        "\n",
        "    if(k == 3):\n",
        "      for j in range(i - 4):\n",
        "        yy = fx4_x3_x2_x1[j + 1] - fx4_x3_x2_x1[j]\n",
        "        xx = x[j + 4] - x[j]\n",
        "        resp = yy/xx\n",
        "        fx5_x4_x3_x2_x1.append(resp)\n",
        "\n",
        "      for j in range(4):\n",
        "        resp = \"-\"\n",
        "        fx5_x4_x3_x2_x1.append(resp)\n",
        "\n",
        "    if(k == 4):\n",
        "      for j in range(i - 5):\n",
        "        yy = fx5_x4_x3_x2_x1[j + 1] - fx5_x4_x3_x2_x1[j]\n",
        "        xx = x[j + 5] - x[j]\n",
        "        resp = yy/xx\n",
        "        fx6_x5_x4_x3_x2_x1.append(resp)\n",
        "\n",
        "      for j in range(5):\n",
        "        resp = \"-\"\n",
        "        fx6_x5_x4_x3_x2_x1.append(resp)\n",
        "\n",
        "\n",
        "  print(\"Tabla Newton:\\n\")\n",
        "  tabla = pd.DataFrame({'x': x, 'f(x)': y, 'f(x2)' : fx2_x1, 'f(x3)' : fx3_x2_x1, 'f(x4)' : fx4_x3_x2_x1, 'f(x5)': fx5_x4_x3_x2_x1, 'f(x6)': fx6_x5_x4_x3_x2_x1 })\n",
        "  print(tabla)\n",
        "  a = valor - x[0]\n",
        "  b = valor - x[1]\n",
        "  c = valor - x[2]\n",
        "  d = valor - x[3]\n",
        "  e = valor - x[4]\n",
        "  f1 =  y[0] + (a*fx2_x1[0])\n",
        "  f2 =  y[0] + (a*fx2_x1[0]) + (a*b*fx3_x2_x1[0])\n",
        "  f3 =  y[0] + (a*fx2_x1[0]) + (a*b*fx3_x2_x1[0]) + (a*b*c*fx4_x3_x2_x1[0])\n",
        "  sum = f1 + f2 + f3\n",
        "  print(\"\\nEl valor de f1 es = \", f1)\n",
        "  print(\"\\nEl valor de f2 es = \", f2)\n",
        "  print(\"\\nEl valor de f3 es = \", f3)\n",
        "  print(\"\\nEl valor de las ordenes de 1 a 3 es = \", sum)\n",
        "  f5  = y[0] + (a*fx2_x1[0]) + (a*b*fx3_x2_x1[0]) + (a*b*c*fx4_x3_x2_x1[0]) + (a*b*c*d*fx5_x4_x3_x2_x1[0]) + (a*b*c*d*e*fx6_x5_x4_x3_x2_x1[0])\n",
        "  print(\"\\nEl valor de f5 es = \", f5)\n",
        "\n",
        "x = [1, 2, 2.5, 3, 4, 5]\n",
        "y = [0, 5, 6.5, 7, 3, 1]\n",
        "valor = 3.4\n",
        "newton(x,y, valor)"
      ],
      "metadata": {
        "id": "Q5rszK_AaVLl",
        "outputId": "ff29af72-8001-4a13-e804-8d72bf958f1a",
        "colab": {
          "base_uri": "https://localhost:8080/"
        }
      },
      "execution_count": null,
      "outputs": [
        {
          "output_type": "stream",
          "name": "stdout",
          "text": [
            "Tabla Newton:\n",
            "\n",
            "     x  f(x) f(x2)     f(x3)     f(x4)     f(x5)     f(x6)\n",
            "0  1.0   0.0   5.0 -1.333333 -0.333333 -0.111111  0.227778\n",
            "1  2.0   5.0   3.0      -2.0 -0.666667       0.8         -\n",
            "2  2.5   6.5   1.0 -3.333333  1.733333         -         -\n",
            "3  3.0   7.0  -4.0       1.0         -         -         -\n",
            "4  4.0   3.0  -2.0         -         -         -         -\n",
            "5  5.0   1.0     -         -         -         -         -\n",
            "\n",
            "El valor de f1 es =  12.0\n",
            "\n",
            "El valor de f2 es =  7.5200000000000005\n",
            "\n",
            "El valor de f3 es =  6.5120000000000005\n",
            "\n",
            "El valor de las ordenes de 1 a 3 es =  26.032\n",
            "\n",
            "El valor de f5 es =  6.212288\n"
          ]
        }
      ]
    },
    {
      "cell_type": "markdown",
      "source": [
        "Lagrange:"
      ],
      "metadata": {
        "id": "WCN4RXQ4xoty"
      }
    },
    {
      "cell_type": "code",
      "source": [
        "# Interpolacion de Lagrange\n",
        "import numpy as np\n",
        "import sympy as sym\n",
        "import matplotlib.pyplot as plt\n",
        "\n",
        "# INGRESO DE DATOS\n",
        "xi = [1.0, 2, 2.5, 3, 4, 5]\n",
        "fi = [0, 5, 6.5, 7, 3, 1]\n",
        "\n",
        "\n",
        "# Polinomio de Lagrange\n",
        "def lagrange(a,xi,yi,orden):\n",
        "  polinomio = 0\n",
        "  for i in range(orden):\n",
        "      # Termino de Lagrange\n",
        "      numerador = 1\n",
        "      denominador = 1\n",
        "      for j  in range(orden):\n",
        "          if (j!=i):\n",
        "              numerador = numerador*(a-xi[j])\n",
        "              denominador = denominador*(xi[i]-xi[j])\n",
        "      terminoLi = numerador/denominador\n",
        "      polinomio = polinomio + terminoLi*fi[i]\n",
        "\n",
        "  return polinomio\n",
        "\n",
        "\n",
        "# SALIDA\n",
        "\n",
        "x = sym.Symbol('x')\n",
        "print(\"Polinomio de Lagrange:\")\n",
        "print(lagrange(x,xi,fi,len(xi)))\n",
        "print()\n",
        "resultados = []\n",
        "orden = 3\n",
        "for i in range(orden):\n",
        "  resultados.append(lagrange(3.4,xi,fi,i+2))\n",
        "\n",
        "print(\"Orden 1:\", resultados[0],\"\\n\")\n",
        "\n",
        "print(\"Orden 2:\", resultados[1],\"\\n\")\n",
        "print(\"Orden 3:\", resultados[2])\n",
        "\n",
        "\n",
        "\n"
      ],
      "metadata": {
        "colab": {
          "base_uri": "https://localhost:8080/"
        },
        "id": "sz-mYb6JwOMR",
        "outputId": "2f128f08-45f0-4f97-c2da-3b1842146916"
      },
      "execution_count": null,
      "outputs": [
        {
          "output_type": "stream",
          "name": "stdout",
          "text": [
            "Polinomio de Lagrange:\n",
            "1.66666666666667*(x - 5)*(x - 4)*(x - 3)*(x - 2.5)*(x - 1.0) - 4.62222222222222*(x - 5)*(x - 4)*(x - 3)*(x - 2)*(x - 1.0) + 3.5*(x - 5)*(x - 4)*(x - 2.5)*(x - 2)*(x - 1.0) - 0.333333333333333*(x - 5)*(x - 3)*(x - 2.5)*(x - 2)*(x - 1.0) + 0.0166666666666667*(x - 4)*(x - 3)*(x - 2.5)*(x - 2)*(x - 1.0)\n",
            "\n",
            "Orden 1: 12.0 \n",
            "\n",
            "Orden 2: 7.52 \n",
            "\n",
            "Orden 3: 6.511999999999997\n"
          ]
        }
      ]
    },
    {
      "cell_type": "markdown",
      "source": [
        "### 3. Utilice la regla trapezoidal de 4 segmentos $(n = 4)$ para estimar la integral de:\n",
        "\n",
        "$f(x)=0.2+25x-200x^2+675x^3-900x^4+400x^5$\n",
        "\n",
        "desde $a=0$ a $b=0.8$"
      ],
      "metadata": {
        "id": "6YkRILzx0q0r"
      }
    },
    {
      "cell_type": "code",
      "execution_count": null,
      "metadata": {
        "colab": {
          "base_uri": "https://localhost:8080/"
        },
        "id": "FGT0xBlvd8Fv",
        "outputId": "fb9f330d-0375-451e-b7c9-8fc1cb76ad09"
      },
      "outputs": [
        {
          "output_type": "stream",
          "name": "stdout",
          "text": [
            "segmentos:  4\n",
            "Integral estimada:  1.484800000000007\n"
          ]
        }
      ],
      "source": [
        "# Integración: Regla de los trapecios\n",
        "# Usando una función fx()\n",
        "import numpy as np\n",
        "import matplotlib.pyplot as plt\n",
        "import math\n",
        "\n",
        "\n",
        "fx = lambda x: 0.2 + 25*x -200*(math.pow(x,2)) + 675*(math.pow(x,3)) - 900*(math.pow(x,4)) + 400*(math.pow(x,5))\n",
        "\n",
        "\n",
        "# intervalo de integración\n",
        "a = 0\n",
        "b = 0.8\n",
        "segmentos = 4\n",
        "\n",
        "# Se considera que los intervalos tienen el mismo rango\n",
        "h = (b-a)/segmentos #h corresponde a la base de los trapecios\n",
        "xi = a\n",
        "suma = fx(xi)\n",
        "#se calcula el valor para cada uno de los segmentos y se suman\n",
        "for i in range(0,segmentos-1,1):\n",
        "    xi = xi + h\n",
        "    suma = suma + 2*fx(xi)\n",
        "suma = suma + fx(b)\n",
        "\n",
        "area = h*(suma/2)\n",
        "\n",
        "# Valores obtenidos\n",
        "print(\"segmentos: \", segmentos)\n",
        "print(\"Integral estimada: \", area)\n"
      ]
    }
  ]
}