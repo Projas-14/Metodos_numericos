{
  "nbformat": 4,
  "nbformat_minor": 0,
  "metadata": {
    "colab": {
      "provenance": [],
      "include_colab_link": true
    },
    "kernelspec": {
      "name": "python3",
      "display_name": "Python 3"
    },
    "language_info": {
      "name": "python"
    }
  },
  "cells": [
    {
      "cell_type": "markdown",
      "metadata": {
        "id": "view-in-github",
        "colab_type": "text"
      },
      "source": [
        "<a href=\"https://colab.research.google.com/github/Projas-14/Metodos_numericos/blob/master/Metodos%20numericos%201.ipynb\" target=\"_parent\"><img src=\"https://colab.research.google.com/assets/colab-badge.svg\" alt=\"Open In Colab\"/></a>"
      ]
    },
    {
      "cell_type": "markdown",
      "source": [
        "#**TAREA MÉTODOS**\n",
        "\n",
        "**Integrantes:**\n",
        "1. Javier Marín, paralelo 1\n",
        "2. Paul Rojas, paralelo 2\n",
        "3. Javiera Cabrera, paralelo 1\n",
        "4. Sofia Labra, paralelo 1"
      ],
      "metadata": {
        "id": "5zUj4B3kGXnU"
      }
    },
    {
      "cell_type": "markdown",
      "source": [
        "# 1. Pregunta 1:\n",
        "El m´etodo “divide y promedia”, es un método que data del 1700 a.C. (Babilonia), y fue una de las primeras algoritmos para aproximar la ra´ız cuadrada de cualquier numero positivo a y puede ser formulado\n",
        "de la siguiente manera:\n",
        "\n",
        "![image.png](data:image/png;base64,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)\n",
        "\n",
        "Escriba una función en Python que reciba como parámetros: a (número positivo del cual quiero la raíz),\n",
        "estimación inicial (use a/2), cantidad máxima de iteraciones y la tolerancia permitida (el error relativo\n",
        "aproximado). Como criterio de t´ermino de la ejecuci´on considere la cantidad máxima de iteraciones o la\n",
        "tolerancia permitida. Muentre en una tabla el error relativo absoluto (como valor real la implementación\n",
        "de la raíz cuadrada de Python)y el error relativo aproximado (aproximaciones consecutivas) en cada\n",
        "iteración y luego grafique ambos errores por separado. Prueba con 2 valores que Ud. elija.\n"
      ],
      "metadata": {
        "id": "ZZBETpZNarux"
      }
    },
    {
      "cell_type": "code",
      "source": [
        "import math\n",
        "import matplotlib.pyplot as plt\n",
        "import numpy as np\n",
        "from timeit import repeat\n",
        "from prettytable import PrettyTable\n",
        "\n",
        "\n",
        "def divide_y_promedia(a,max_iteraciones, toleracia_max, mostrar):\n",
        "  #condicion de a positivo\n",
        "  if(a<0):\n",
        "    return \"el numero entregado es negativo...\"\n",
        "\n",
        "  i = 0\n",
        "  x = a/2\n",
        "  error_absoluto = 0\n",
        "  valor_real = np.sqrt(a)\n",
        "\n",
        "  if(mostrar == True): print(f\"raiz de {a} es {valor_real}\")\n",
        "  toleracia = -1\n",
        "  tabla_error_absoluto =  []\n",
        "  tabla_error_relativo = []\n",
        "  error_relativo = 0\n",
        "  aproximaciones = []\n",
        "\n",
        "\n",
        "  #Ciclo repetivo\n",
        "  while(i<max_iteraciones and toleracia != toleracia_max):\n",
        "    #aumento de iteraciones de i\n",
        "    i +=1\n",
        "    x_antiguo = x\n",
        "    x = (x + (a/x))/2\n",
        "\n",
        "    error_absoluto = abs(valor_real - x)\n",
        "\n",
        "    toleracia = error_absoluto\n",
        "\n",
        "    #error_relativo = abs((valor_real - x))/valor_real\n",
        "    error_relativo = abs((x-x_antiguo))/x_antiguo\n",
        "\n",
        "    # Se almacena los datos en la tabla\n",
        "    aproximaciones.append(x)\n",
        "    tabla_error_absoluto.append(error_absoluto)\n",
        "    tabla_error_relativo.append(error_relativo)\n",
        "  lrgo = len(aproximaciones)\n",
        "  if(mostrar == False): return aproximaciones[lrgo - 1]\n",
        "  if(mostrar == True):\n",
        "    myTable_absoluto = PrettyTable([\"aproximacion\", \"Error Absoluto\", \"iteracion\"])\n",
        "    myTable_relativa = PrettyTable([\"aproximacion\", \"Error relativo\", \"iteracion\"])\n",
        "    for j in range(len(tabla_error_absoluto)):\n",
        "      myTable_absoluto.add_row([aproximaciones[j],tabla_error_absoluto[j],j])\n",
        "      myTable_relativa.add_row([aproximaciones[j],tabla_error_relativo[j],j])\n",
        "    print(\"Tabla Error Absoluto\")\n",
        "    print(myTable_absoluto)\n",
        "    print(\"Tabla Error relativo\")\n",
        "    print(myTable_relativa)\n",
        "\n",
        "    print(\"Grafico Error absoluto \\n \")\n",
        "    # grafico 1 error absoluto\n",
        "    x1=[]; y1=[];\n",
        "\n",
        "    for n in range(len(tabla_error_absoluto)):\n",
        "      x1.append(int(n))\n",
        "      y1.append(tabla_error_absoluto[n])\n",
        "\n",
        "    plt.plot(x1,y1)\n",
        "    plt.legend([\"Error absoluto\"])\n",
        "    plt.xlabel('iteraciones')\n",
        "    plt.ylabel('Rango error absoluto')\n",
        "    plt.show()\n",
        "\n",
        "\n",
        "    print(\"\\n Grafico Error relativo \\n \")\n",
        "\n",
        "    # grafico 2 error absoluto\n",
        "    x2=[]; y2=[];\n",
        "\n",
        "    for n in range(len(tabla_error_relativo)):\n",
        "      x2.append(n)\n",
        "      y2.append(tabla_error_relativo[n])\n",
        "\n",
        "    plt.plot(x2,y2)\n",
        "    plt.legend([\"Error relativo\"])\n",
        "    plt.xlabel('iteraciones')\n",
        "    plt.ylabel('Rango error relativo')\n",
        "    plt.show()"
      ],
      "metadata": {
        "id": "m5RoeJGxnyHk"
      },
      "execution_count": null,
      "outputs": []
    },
    {
      "cell_type": "code",
      "execution_count": null,
      "metadata": {
        "colab": {
          "base_uri": "https://localhost:8080/",
          "height": 1000
        },
        "id": "Ay1DC49YapWe",
        "outputId": "8455cfd6-62e5-4595-97c6-806918642458"
      },
      "outputs": [
        {
          "output_type": "stream",
          "name": "stdout",
          "text": [
            "raiz de 4069 es 63.788713735268246\n",
            "Tabla Error Absoluto\n",
            "+--------------------+------------------------+-----------+\n",
            "|    aproximacion    |     Error Absoluto     | iteracion |\n",
            "+--------------------+------------------------+-----------+\n",
            "|      1018.25       |   954.4612862647317    |     0     |\n",
            "| 511.1230358458139  |   447.33432211054566   |     1     |\n",
            "| 259.54196853326397 |   195.75325479799574   |     2     |\n",
            "| 137.60979357942816 |   73.82107984415991    |     3     |\n",
            "| 83.58945497470758  |   19.800741239439333   |     4     |\n",
            "| 66.13392195411514  |   2.345208218846892    |     5     |\n",
            "| 63.830296038473875 |   0.0415823032056295   |     6     |\n",
            "| 63.788727279682476 | 1.3544414230182156e-05 |     7     |\n",
            "| 63.78871373526968  | 1.4352963262354024e-12 |     8     |\n",
            "| 63.788713735268246 |          0.0           |     9     |\n",
            "+--------------------+------------------------+-----------+\n",
            "Tabla Error relativo\n",
            "+--------------------+------------------------+-----------+\n",
            "|    aproximacion    |     Error relativo     | iteracion |\n",
            "+--------------------+------------------------+-----------+\n",
            "|      1018.25       |  0.49950847874170556   |     0     |\n",
            "| 511.1230358458139  |  0.49803777476472977   |     1     |\n",
            "| 259.54196853326397 |  0.49221234354313514   |     2     |\n",
            "| 137.60979357942816 |  0.46979752693911037   |     3     |\n",
            "| 83.58945497470758  |  0.39256172979825105   |     4     |\n",
            "| 66.13392195411514  |  0.20882458230974374   |     5     |\n",
            "| 63.830296038473875 |  0.03483274313051565   |     6     |\n",
            "| 63.788727279682476 | 0.0006512386965328133  |     7     |\n",
            "| 63.78871373526968  | 2.123323880644331e-07  |     8     |\n",
            "| 63.788713735268246 | 2.2500788026421778e-14 |     9     |\n",
            "+--------------------+------------------------+-----------+\n",
            "Grafico Error absoluto \n",
            " \n"
          ]
        },
        {
          "output_type": "display_data",
          "data": {
            "text/plain": [
              "<Figure size 432x288 with 1 Axes>"
            ],
            "image/png": "[encoded data removed]"
          },
          "metadata": {
            "needs_background": "light"
          }
        },
        {
          "output_type": "stream",
          "name": "stdout",
          "text": [
            "\n",
            " Grafico Error relativo \n",
            " \n"
          ]
        },
        {
          "output_type": "display_data",
          "data": {
            "text/plain": [
              "<Figure size 432x288 with 1 Axes>"
            ],
            "image/png": "[encoded data removed]"
          },
          "metadata": {
            "needs_background": "light"
          }
        }
      ],
      "source": [
        "divide_y_promedia(4069,10, 0, mostrar = True)"
      ]
    },
    {
      "cell_type": "code",
      "source": [
        "divide_y_promedia(555,10, 0, mostrar = True)"
      ],
      "metadata": {
        "colab": {
          "base_uri": "https://localhost:8080/",
          "height": 1000
        },
        "id": "mUD36mgRqQJz",
        "outputId": "8b6e0367-09b7-4f11-f4bb-c06435993084"
      },
      "execution_count": null,
      "outputs": [
        {
          "output_type": "stream",
          "name": "stdout",
          "text": [
            "raiz de 555 es 23.558437978779494\n",
            "Tabla Error Absoluto\n",
            "+--------------------+-----------------------+-----------+\n",
            "|    aproximacion    |     Error Absoluto    | iteracion |\n",
            "+--------------------+-----------------------+-----------+\n",
            "|       139.75       |   116.1915620212205   |     0     |\n",
            "| 71.86068872987478  |   48.302250751095286  |     1     |\n",
            "| 39.791982833824406 |   16.23354485504491   |     2     |\n",
            "| 26.86975799594572  |   3.3113200171662243  |     3     |\n",
            "| 23.762474804450573 |   0.2040368256710785  |     4     |\n",
            "| 23.55931396132282  |  0.000875982543327325 |     5     |\n",
            "| 23.558437995064885 | 1.628539081366398e-08 |     6     |\n",
            "| 23.558437978779494 |          0.0          |     7     |\n",
            "+--------------------+-----------------------+-----------+\n",
            "Tabla Error relativo\n",
            "+--------------------+----------------------+-----------+\n",
            "|    aproximacion    |    Error relativo    | iteracion |\n",
            "+--------------------+----------------------+-----------+\n",
            "|       139.75       |  0.4963963963963964  |     0     |\n",
            "| 71.86068872987478  | 0.48579113610107494  |     1     |\n",
            "| 39.791982833824406 |  0.4462621561643674  |     2     |\n",
            "| 26.86975799594572  |  0.3247444313555142  |     3     |\n",
            "| 23.762474804450573 |  0.115642395884771   |     4     |\n",
            "| 23.55931396132282  | 0.008549650017501558 |     5     |\n",
            "| 23.558437995064885 | 3.71813143360023e-05 |     6     |\n",
            "| 23.558437978779494 | 6.91276340862476e-10 |     7     |\n",
            "+--------------------+----------------------+-----------+\n",
            "Grafico Error absoluto \n",
            " \n"
          ]
        },
        {
          "output_type": "display_data",
          "data": {
            "text/plain": [
              "<Figure size 432x288 with 1 Axes>"
            ],
            "image/png": "[encoded data removed]"
          },
          "metadata": {
            "needs_background": "light"
          }
        },
        {
          "output_type": "stream",
          "name": "stdout",
          "text": [
            "\n",
            " Grafico Error relativo \n",
            " \n"
          ]
        },
        {
          "output_type": "display_data",
          "data": {
            "text/plain": [
              "<Figure size 432x288 with 1 Axes>"
            ],
            "image/png": "[encoded data removed]"
          },
          "metadata": {
            "needs_background": "light"
          }
        }
      ]
    },
    {
      "cell_type": "markdown",
      "source": [
        "# 2. PREGUNTA 2:\n",
        "El Manuscrito de Bakhshali (MB) fue descubierto por un agricultor en 1881 A.D. en Bakhshali, un\n",
        "pueblo cerca de Peshawar, India. Es un documento descubierto con teoremas matem´aticos escritos en\n",
        "unas 70 cortezas de abedul. El período de la composición del MB se encuentra en el rango de 200 a\n",
        "400 d.C. Un elemento de gran importancia histórica en el MB es la fórmula para el cálculo de las raíces\n",
        "cuadradas de números no cuadrados, es decir,\n",
        "\n",
        "\n",
        "![image.png](data:image/png;base64,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)\n",
        "\n",
        "donde A^2\n",
        "es el cuadrado perfecto más cercano a Q. (Se tiene que encontrar de manera automática). La\n",
        "función debe recibir solamente el número Q como parámetro y mostrar el error relativo asociado a la\n",
        "aproximación. Realice 3 pruebas con valores que Ud. elija y compare con el método “divide y promedia”\n",
        "(5 iteraciones).\n"
      ],
      "metadata": {
        "id": "AR8rV67tHXqU"
      }
    },
    {
      "cell_type": "code",
      "source": [
        "def bakhshali(Q):\n",
        "  #Primero hay que buscar el cuadrado perfecto más cercano\n",
        "  A = 1\n",
        "  while (math.pow(A+1, 2) < Q): #primero se encuentra el cuadrado perfecto menor al número Q\n",
        "    A += 1\n",
        "\n",
        "  b = Q - (A*A)\n",
        "  c=b/(2*A)\n",
        "  aprox = A + c - ((c*c)/(2*(A+c)))\n",
        "  errorRelativo = abs(math.sqrt(Q) - aprox)/math.sqrt(Q)\n",
        "\n",
        "  return aprox, errorRelativo\n",
        "\n",
        "aprox,error= bakhshali(555)\n",
        "print(\"Aproximación: \",aprox)\n",
        "print(\"Error relativo: \",error)\n",
        ""
      ],
      "metadata": {
        "colab": {
          "base_uri": "https://localhost:8080/"
        },
        "id": "JgQoj384JuGv",
        "outputId": "0004ce60-fc05-4aa8-a362-a3aaa4ef646e"
      },
      "execution_count": null,
      "outputs": [
        {
          "output_type": "stream",
          "name": "stdout",
          "text": [
            "Aproximación:  23.558438953954756\n",
            "Error relativo:  4.139388453126854e-08\n"
          ]
        }
      ]
    },
    {
      "cell_type": "code",
      "source": [
        "import pandas as pd\n",
        "#Se reciben los errores relativos obtenidos en la pregunta 1\n",
        "prg1 = []\n",
        "primNum1 = divide_y_promedia(13 ,5, 0, mostrar = False)\n",
        "prg1.append(primNum1)\n",
        "sgNum1 = divide_y_promedia(555,5, 0, mostrar = False)\n",
        "prg1.append(sgNum1)\n",
        "terNum1 =  divide_y_promedia(4069,5, 0, mostrar = False)\n",
        "prg1.append(terNum1)\n",
        "\n",
        "\n",
        "\n",
        "#Se recien los errores relativos obtenidos en la pregunta 2\n",
        "prg2 = []\n",
        "aprox, primNum2 = bakhshali(13)\n",
        "prg2.append(aprox)\n",
        "aprox, sgNum2= bakhshali(555)\n",
        "prg2.append(aprox)\n",
        "aprox, terNum1 =  bakhshali(4069)\n",
        "prg2.append(aprox)\n",
        "\n",
        "\n",
        "#Tabla comparativa\n",
        "\n",
        "#entradas\n",
        "a = [13, 555, 4069]\n",
        "print(\"Tabla de comparacion Aproximaciones a Raiz Cuadrada:\\n\")\n",
        "tabla = pd.DataFrame(columns = ['a', 'Bakhshali' , 'DivideyPromedia'])\n",
        "tabla = pd.DataFrame({'a': a, 'Bakhshali': prg2, 'DivideyPromedia' : prg1})\n",
        "tabla\n"
      ],
      "metadata": {
        "id": "d1hS4ZLfOp0X",
        "colab": {
          "base_uri": "https://localhost:8080/",
          "height": 178
        },
        "outputId": "29f8fed4-120c-4225-e5bb-db9d7ff7585e"
      },
      "execution_count": null,
      "outputs": [
        {
          "output_type": "stream",
          "name": "stdout",
          "text": [
            "Tabla de comparacion Aproximaciones a Raiz Cuadrada:\n",
            "\n"
          ]
        },
        {
          "output_type": "execute_result",
          "data": {
            "text/plain": [
              "      a  Bakhshali  DivideyPromedia\n",
              "0    13   3.606061         3.605551\n",
              "1   555  23.558439        23.762475\n",
              "2  4069  63.788714        83.589455"
            ],
            "text/html": [
              "\n",
              "  <div id=\"df-336a4136-f20e-4d8e-b6b0-93d46f76869d\">\n",
              "    <div class=\"colab-df-container\">\n",
              "      <div>\n",
              "<style scoped>\n",
              "    .dataframe tbody tr th:only-of-type {\n",
              "        vertical-align: middle;\n",
              "    }\n",
              "\n",
              "    .dataframe tbody tr th {\n",
              "        vertical-align: top;\n",
              "    }\n",
              "\n",
              "    .dataframe thead th {\n",
              "        text-align: right;\n",
              "    }\n",
              "</style>\n",
              "<table border=\"1\" class=\"dataframe\">\n",
              "  <thead>\n",
              "    <tr style=\"text-align: right;\">\n",
              "      <th></th>\n",
              "      <th>a</th>\n",
              "      <th>Bakhshali</th>\n",
              "      <th>DivideyPromedia</th>\n",
              "    </tr>\n",
              "  </thead>\n",
              "  <tbody>\n",
              "    <tr>\n",
              "      <th>0</th>\n",
              "      <td>13</td>\n",
              "      <td>3.606061</td>\n",
              "      <td>3.605551</td>\n",
              "    </tr>\n",
              "    <tr>\n",
              "      <th>1</th>\n",
              "      <td>555</td>\n",
              "      <td>23.558439</td>\n",
              "      <td>23.762475</td>\n",
              "    </tr>\n",
              "    <tr>\n",
              "      <th>2</th>\n",
              "      <td>4069</td>\n",
              "      <td>63.788714</td>\n",
              "      <td>83.589455</td>\n",
              "    </tr>\n",
              "  </tbody>\n",
              "</table>\n",
              "</div>\n",
              "      <button class=\"colab-df-convert\" onclick=\"convertToInteractive('df-336a4136-f20e-4d8e-b6b0-93d46f76869d')\"\n",
              "              title=\"Convert this dataframe to an interactive table.\"\n",
              "              style=\"display:none;\">\n",
              "        \n",
              "  <svg xmlns=\"http://www.w3.org/2000/svg\" height=\"24px\"viewBox=\"0 0 24 24\"\n",
              "       width=\"24px\">\n",
              "    <path d=\"M0 0h24v24H0V0z\" fill=\"none\"/>\n",
              "    <path d=\"M18.56 5.44l.94 2.06.94-2.06 2.06-.94-2.06-.94-.94-2.06-.94 2.06-2.06.94zm-11 1L8.5 8.5l.94-2.06 2.06-.94-2.06-.94L8.5 2.5l-.94 2.06-2.06.94zm10 10l.94 2.06.94-2.06 2.06-.94-2.06-.94-.94-2.06-.94 2.06-2.06.94z\"/><path d=\"M17.41 7.96l-1.37-1.37c-.4-.4-.92-.59-1.43-.59-.52 0-1.04.2-1.43.59L10.3 9.45l-7.72 7.72c-.78.78-.78 2.05 0 2.83L4 21.41c.39.39.9.59 1.41.59.51 0 1.02-.2 1.41-.59l7.78-7.78 2.81-2.81c.8-.78.8-2.07 0-2.86zM5.41 20L4 18.59l7.72-7.72 1.47 1.35L5.41 20z\"/>\n",
              "  </svg>\n",
              "      </button>\n",
              "      \n",
              "  <style>\n",
              "    .colab-df-container {\n",
              "      display:flex;\n",
              "      flex-wrap:wrap;\n",
              "      gap: 12px;\n",
              "    }\n",
              "\n",
              "    .colab-df-convert {\n",
              "      background-color: #E8F0FE;\n",
              "      border: none;\n",
              "      border-radius: 50%;\n",
              "      cursor: pointer;\n",
              "      display: none;\n",
              "      fill: #1967D2;\n",
              "      height: 32px;\n",
              "      padding: 0 0 0 0;\n",
              "      width: 32px;\n",
              "    }\n",
              "\n",
              "    .colab-df-convert:hover {\n",
              "      background-color: #E2EBFA;\n",
              "      box-shadow: 0px 1px 2px rgba(60, 64, 67, 0.3), 0px 1px 3px 1px rgba(60, 64, 67, 0.15);\n",
              "      fill: #174EA6;\n",
              "    }\n",
              "\n",
              "    [theme=dark] .colab-df-convert {\n",
              "      background-color: #3B4455;\n",
              "      fill: #D2E3FC;\n",
              "    }\n",
              "\n",
              "    [theme=dark] .colab-df-convert:hover {\n",
              "      background-color: #434B5C;\n",
              "      box-shadow: 0px 1px 3px 1px rgba(0, 0, 0, 0.15);\n",
              "      filter: drop-shadow(0px 1px 2px rgba(0, 0, 0, 0.3));\n",
              "      fill: #FFFFFF;\n",
              "    }\n",
              "  </style>\n",
              "\n",
              "      <script>\n",
              "        const buttonEl =\n",
              "          document.querySelector('#df-336a4136-f20e-4d8e-b6b0-93d46f76869d button.colab-df-convert');\n",
              "        buttonEl.style.display =\n",
              "          google.colab.kernel.accessAllowed ? 'block' : 'none';\n",
              "\n",
              "        async function convertToInteractive(key) {\n",
              "          const element = document.querySelector('#df-336a4136-f20e-4d8e-b6b0-93d46f76869d');\n",
              "          const dataTable =\n",
              "            await google.colab.kernel.invokeFunction('convertToInteractive',\n",
              "                                                     [key], {});\n",
              "          if (!dataTable) return;\n",
              "\n",
              "          const docLinkHtml = 'Like what you see? Visit the ' +\n",
              "            '<a target=\"_blank\" href=https://colab.research.google.com/notebooks/data_table.ipynb>data table notebook</a>'\n",
              "            + ' to learn more about interactive tables.';\n",
              "          element.innerHTML = '';\n",
              "          dataTable['output_type'] = 'display_data';\n",
              "          await google.colab.output.renderOutput(dataTable, element);\n",
              "          const docLink = document.createElement('div');\n",
              "          docLink.innerHTML = docLinkHtml;\n",
              "          element.appendChild(docLink);\n",
              "        }\n",
              "      </script>\n",
              "    </div>\n",
              "  </div>\n",
              "  "
            ]
          },
          "metadata": {},
          "execution_count": 67
        }
      ]
    },
    {
      "cell_type": "markdown",
      "source": [
        "\n",
        "# 3. Pregunta 3\n",
        "\n",
        "Use el metodo de la biseccion para determinar el coeficiente de elasticidad (o arrastre) necesario para que un saltador con masa 80[kg] alcance una velocidad de 36[m/s] despues de 4[s] de caıda libre. Note que la aceleracion de gravedad es 9,81[m/s2 ]. El intervalo inicial [a, b] = [0,1, 0,2] e itere hasta que el error relativo aproximado sea menor a 2 %."
      ],
      "metadata": {
        "id": "1bPEA-IDYlJz"
      }
    },
    {
      "cell_type": "code",
      "source": [
        "\n",
        "def funcion_bi(coef_arrastre):\n",
        "  masa = 80\n",
        "  gravedad = 9.81\n",
        "  tiempo = 4\n",
        "\n",
        "  raiz1 = (gravedad*masa)/coef_arrastre\n",
        "  raiz2 = (gravedad*coef_arrastre)/masa\n",
        "  return np.sqrt(raiz1)*math.tanh(np.sqrt(raiz2)*tiempo) - 36\n",
        "\n",
        "\n",
        "\n",
        "\n",
        "def biseccion():\n",
        "\n",
        "  Velocidad_real = 36\n",
        "\n",
        "  a = 0.1\n",
        "  b = 0.2\n",
        "  c = (a+b)/2\n",
        "\n",
        "  #error relativo\n",
        "  error_relativo = 1 #100% -> se espera llegar a 0.2\n",
        "\n",
        "  #Listas\n",
        "  arr_a=[]\n",
        "  arr_b=[]\n",
        "  arr_c=[]\n",
        "  arr_fa=[]\n",
        "  arr_fb=[]\n",
        "  arr_fc=[]\n",
        "  update = []\n",
        "  arr_error = []\n",
        "  funcion_c = 0\n",
        "\n",
        "  i = 0\n",
        "\n",
        "  while error_relativo > 0.02:\n",
        "    i+=1\n",
        "    funcionC_anterior=funcion_c\n",
        "    funcion_a = funcion_bi(a)\n",
        "    funcion_b = funcion_bi(b)\n",
        "    funcion_c = funcion_bi(c)\n",
        "\n",
        "\n",
        "    arr_a.append(a)\n",
        "    arr_b.append(b)\n",
        "    arr_c.append(c)\n",
        "\n",
        "    arr_fa.append(funcion_a)\n",
        "    arr_fb.append(funcion_b)\n",
        "    arr_fc.append(funcion_c)\n",
        "\n",
        "    update.append(funcionC_anterior-funcion_c)\n",
        "\n",
        "    if funcion_a*funcion_c < 0:\n",
        "      b = c\n",
        "      c_actual = (a+b)/2\n",
        "      update.append(c)\n",
        "\n",
        "\n",
        "    if funcion_a*funcion_c > 0:\n",
        "      a = c\n",
        "      c_actual = (a+b)/2\n",
        "\n",
        "    error_relativo = abs((c_actual-c)/c_actual)\n",
        "\n",
        "    c = c_actual\n",
        "\n",
        "    arr_error.append(error_relativo)\n",
        "\n",
        "\n",
        "  myTable_Biseccion = PrettyTable([\"Iteracion\",\"a\", \"b\", \"f(a)\",\"f(b)\",\"C\",\"f(c)\",\"actualizacion\",\"error_relativo\"])\n",
        "  for j in range(i):\n",
        "    myTable_Biseccion.add_row([j,arr_a[j],arr_b[j],arr_fa[j],arr_fb[j],arr_c[j],arr_fc[j],update[j],arr_error[j]*100])\n",
        "\n",
        "  print(myTable_Biseccion)\n",
        "\n",
        "  print(\"Error Relativo: \", arr_error[j]*100 ,\"%\" )\n",
        "\n",
        "\n",
        "biseccion()"
      ],
      "metadata": {
        "colab": {
          "base_uri": "https://localhost:8080/"
        },
        "id": "0Mxc-PfsYt1N",
        "outputId": "6ddb8208-3453-468e-e542-0979e2cc76b6"
      },
      "execution_count": null,
      "outputs": [
        {
          "output_type": "stream",
          "name": "stdout",
          "text": [
            "+-----------+--------+---------------------+----------------------+----------------------+---------------------+----------------------+---------------------+--------------------+\n",
            "| Iteracion |   a    |          b          |         f(a)         |         f(b)         |          C          |         f(c)         |    actualizacion    |   error_relativo   |\n",
            "+-----------+--------+---------------------+----------------------+----------------------+---------------------+----------------------+---------------------+--------------------+\n",
            "|     0     |  0.1   |         0.2         |  0.8602906131757351  | -1.1973800012119113  | 0.15000000000000002 | -0.20451645660185136 | 0.20451645660185136 | 20.000000000000018 |\n",
            "|     1     |  0.1   | 0.15000000000000002 |  0.8602906131757351  | -0.20451645660185136 |        0.125        | 0.31840714728528496  | 0.15000000000000002 | 9.090909090909099  |\n",
            "|     2     | 0.125  | 0.15000000000000002 | 0.31840714728528496  | -0.20451645660185136 |        0.1375       | 0.054638962975708694 | -0.5229236038871363 | 4.347826086956525  |\n",
            "|     3     | 0.1375 | 0.15000000000000002 | 0.054638962975708694 | -0.20451645660185136 | 0.14375000000000002 | -0.07550764050938596 | 0.26376818430957627 | 2.2222222222222343 |\n",
            "|     4     | 0.1375 | 0.14375000000000002 | 0.054638962975708694 | -0.07550764050938596 |       0.140625      | -0.01057751417143038 | 0.13014660348509466 | 1.1235955056179736 |\n",
            "+-----------+--------+---------------------+----------------------+----------------------+---------------------+----------------------+---------------------+--------------------+\n",
            "Error Relativo:  1.1235955056179736 %\n"
          ]
        }
      ]
    },
    {
      "cell_type": "markdown",
      "source": [
        "#4. Pregunta 4"
      ],
      "metadata": {
        "id": "QQboUL4rKA3c"
      }
    },
    {
      "cell_type": "markdown",
      "source": [
        "## Raíces de una función no lineal y raíces cuadradas."
      ],
      "metadata": {
        "id": "WgfnIKZq70lv"
      }
    },
    {
      "cell_type": "markdown",
      "source": [
        "### a) Investigar la relación que existe entre encontrar la raíz cuadrada de un número con encontrar las raíces de una ecuación no lineal"
      ],
      "metadata": {
        "id": "nOjnZkgy77Dy"
      }
    },
    {
      "cell_type": "markdown",
      "source": [
        "La relación existente entre encontrar la raíz cuadrada de un número con encontrar las raíces de una ecuación no lineal es que una raíz cuadrada de un número se puede graficar como una ecuación no lineal."
      ],
      "metadata": {
        "id": "KBQ2YhkT8B0N"
      }
    },
    {
      "cell_type": "markdown",
      "source": [
        "###b) Plantee el problema de encontrar la raíz de un número, con los métodos de la bisección y Regula Falsi"
      ],
      "metadata": {
        "id": "ZjhUWHj98Jyl"
      }
    },
    {
      "cell_type": "markdown",
      "source": [
        "La raíz cuadrada de un número vista como función es  $f(x)=y=x^{\\frac{1}{2}}$.\n",
        " El dominio de dicha función es  $0≤x^{\\frac{1}{2}}$.\n",
        "\n",
        "Por lo que para encontrar la raíz de un número se deben establecer los intervalos, este debe contener el 0."
      ],
      "metadata": {
        "id": "3v30DEmB8cLE"
      }
    },
    {
      "cell_type": "markdown",
      "source": [
        "## Grafique la función y = sin(3x+ 4 cos(2x)) en un intervalo [0, 2π]. Luego defina una estrategia para encontrar todas las raíces de la función en ese intervalo (Recuerde que existe el Método Búsqueda Incremental a parte del Método Gráfico), luego encuentre las raíces usando el Método de la Bisección y Regula Falsi. Use los mismos intervalos iniciales de búsqueda para ambos métodos y la misma cantidad de iteraciones. Comente los resultados ."
      ],
      "metadata": {
        "id": "t2DZBxb18N09"
      }
    },
    {
      "cell_type": "code",
      "source": [
        "def f(x):\n",
        "  a = 3 * x\n",
        "  b = 4 * math.cos(2*x)\n",
        "  funcion = math.sin(a+b)\n",
        "  return funcion"
      ],
      "metadata": {
        "id": "JrfZEue08nO2"
      },
      "execution_count": null,
      "outputs": []
    },
    {
      "cell_type": "markdown",
      "source": [
        "### Gráfico de la función:"
      ],
      "metadata": {
        "id": "Ymx0TlXL82mY"
      }
    },
    {
      "cell_type": "code",
      "source": [
        "\n",
        "ejeX = []\n",
        "ejeY = []\n",
        "x = 0\n",
        "pi = float(math.pi)\n",
        "\n",
        "while x <= pi*2:\n",
        "  y = f(x)\n",
        "  ejeX.append(x)\n",
        "  ejeY.append(y)\n",
        "  x += 0.000001\n",
        "\n",
        "plt.plot(ejeX,ejeY)\n",
        "plt.xlabel(\"X\")\n",
        "plt.ylabel(\"Y\")\n",
        "plt.show()"
      ],
      "metadata": {
        "colab": {
          "base_uri": "https://localhost:8080/",
          "height": 279
        },
        "id": "-DmBomKk8182",
        "outputId": "7e55ea3b-01bb-4632-b969-807c37677c1d"
      },
      "execution_count": null,
      "outputs": [
        {
          "output_type": "display_data",
          "data": {
            "text/plain": [
              "<Figure size 432x288 with 1 Axes>"
            ],
            "image/png": "[encoded data removed]"
          },
          "metadata": {
            "needs_background": "light"
          }
        }
      ]
    },
    {
      "cell_type": "markdown",
      "source": [
        "Comentario: Se puede ver en el gráfico que en la función y = sin(3x+ 4cos(2x)) se encuentran 10 raíces en el intervalo [0,2π] esto ya que la función seno y coseno tienden entre el [1,-1] a lo largo del eje y.\n"
      ],
      "metadata": {
        "id": "kTspXKiy-Kqg"
      }
    },
    {
      "cell_type": "markdown",
      "source": [
        "### Método Busqueda Incremental"
      ],
      "metadata": {
        "id": "X2vVvKCvmumc"
      }
    },
    {
      "cell_type": "code",
      "source": [
        "def BusqIncremental(x):\n",
        "  num = []\n",
        "  raices = []\n",
        "  pi = float(math.pi)\n",
        "\n",
        "  while x <= pi*2:\n",
        "    y = f(x)\n",
        "    if y == 0:\n",
        "      raices.append(x)\n",
        "    x += pi/100000000\n",
        "    num.append(x)\n",
        "  return raices\n",
        "\n",
        "raices = BusqIncremental(0)\n",
        "print(f\"Raíces encontradas = {raices}\")"
      ],
      "metadata": {
        "colab": {
          "base_uri": "https://localhost:8080/"
        },
        "id": "h4t4HWcUmyJa",
        "outputId": "983467a0-ee5d-4f5f-ef9a-3965df56510b"
      },
      "execution_count": null,
      "outputs": [
        {
          "output_type": "stream",
          "name": "stdout",
          "text": [
            "Raíces encontradas = []\n"
          ]
        }
      ]
    },
    {
      "cell_type": "markdown",
      "source": [
        "Comentario: No se encuentra ninguna raíz con la búsqueda incremental, esto puede deberse a qué las raíces de la función poseen infinitos decimales"
      ],
      "metadata": {
        "id": "W3j6M1z4v_SJ"
      }
    },
    {
      "cell_type": "markdown",
      "source": [
        "### Método de Bisección"
      ],
      "metadata": {
        "id": "Nb89uxWhAtDk"
      }
    },
    {
      "cell_type": "code",
      "source": [
        "def MetodoBiseccion(a,b):\n",
        "  num = []\n",
        "  raices = []\n",
        "  for i in range(10):\n",
        "    m = (a+b)/2\n",
        "    num.append(m)\n",
        "    if f(m) == 0:\n",
        "      raices.append(m)\n",
        "    if f(m) * f(b) < 0:\n",
        "      a = m\n",
        "    else:\n",
        "      b = m\n",
        "  return num, raices\n",
        "\n",
        "numeros, resultado = MetodoBiseccion(0, 2*math.pi)\n",
        "print(f\"Números evaluados = {numeros}\")\n",
        "print(f\"Raíces encontradas = {resultado}\")"
      ],
      "metadata": {
        "colab": {
          "base_uri": "https://localhost:8080/"
        },
        "id": "1Ny0OGykAsO7",
        "outputId": "7ba23864-75e0-4bfa-94ef-98306dab6f06"
      },
      "execution_count": null,
      "outputs": [
        {
          "output_type": "stream",
          "name": "stdout",
          "text": [
            "Números evaluados = [3.141592653589793, 4.71238898038469, 3.9269908169872414, 3.5342917352885173, 3.730641276137879, 3.8288160465625602, 3.7797286613502195, 3.7551849687440493, 3.7674568150471344, 3.7613208918955916]\n",
            "Raíces encontradas = []\n"
          ]
        }
      ]
    },
    {
      "cell_type": "markdown",
      "source": [
        "### Método Regula Falsi"
      ],
      "metadata": {
        "id": "dw09s1YBGPxZ"
      }
    },
    {
      "cell_type": "code",
      "source": [
        "def RegulaFalsi(a,b):\n",
        "  num = []\n",
        "  raices = []\n",
        "  for i in range(10):\n",
        "    m = f(b)*(a-b)\n",
        "    m = m/(f(a)-f(b))\n",
        "    m = b-m\n",
        "    if f(m) == 0:\n",
        "      raices.append(m)\n",
        "    num.append(m)\n",
        "    if f(m) * f(b) < 0:\n",
        "      a = m\n",
        "    else:\n",
        "      b = m\n",
        "  return num,raices\n",
        "\n",
        "numeros, raices = RegulaFalsi(0, 2*math.pi)\n",
        "print(f\"Números evaluados = {numeros}\")\n",
        "print(f\"Raíces encontradas = {resultado}\")\n"
      ],
      "metadata": {
        "colab": {
          "base_uri": "https://localhost:8080/"
        },
        "id": "7-hdTSmeGTVW",
        "outputId": "dec6c244-fa24-4620-eda5-5e60a6f661ed"
      },
      "execution_count": null,
      "outputs": [
        {
          "output_type": "stream",
          "name": "stdout",
          "text": [
            "Números evaluados = [1.0707601566273344e+16, 2.918486383388722e+16, 1.8217226863072464e+16, 2.0125902021370404e+16, 2.0114353600689132e+16, 2.01258858271692e+16, 2.012590200681601e+16, 2.0125902021355064e+16, 2.012590202137036e+16, 2.0125902021370404e+16]\n",
            "Raíces encontradas = []\n"
          ]
        }
      ]
    },
    {
      "cell_type": "markdown",
      "source": [
        "Comentario: Independiente del método nunca encuentra una raíz para la función, esto ya que las raíces de esta función poseen una gran cantidad de decimales, por lo que se necesita una gran cantidad de iteraciones."
      ],
      "metadata": {
        "id": "cPmbd2lUny0g"
      }
    },
    {
      "cell_type": "markdown",
      "source": [
        "#5. Pregunta 5:\n",
        "Ingrese al canal de Youtube Computerphile y vea el video Binary Addition & Overflow. Coment´e en no\n",
        "más de 5 lineas la idea principal del video. (https://youtu.be/WN8i5cwjkSE)\n",
        "\n",
        "\n",
        "\n",
        ">El video comienza con una suma, donde se explica las condiciones para llevarla a cabo, luego se realiza lo mismo con una suma binaria, donde esta también tiene sus rangos y condiciones y en base a estos ejemplos el video nos explica como funciona el desbordamiento \"*overflow*\", el cual consiste en llegar a una columna izquierda **no existente** y que hay que ser concientes que pueden ocurrir constantemente.\n",
        "\n",
        "\n"
      ],
      "metadata": {
        "id": "TaWphGX5KEpF"
      }
    }
  ]
}